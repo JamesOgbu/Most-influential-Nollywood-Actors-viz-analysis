{
 "cells": [
  {
   "cell_type": "markdown",
   "metadata": {},
   "source": [
    "### Installing Required Library For Webscraping Social Media Sites"
   ]
  },
  {
   "cell_type": "code",
   "execution_count": null,
   "metadata": {},
   "outputs": [],
   "source": [
    "from selenium import webdriver\n",
    "from selenium.webdriver.common.by import By\n",
    "from selenium.webdriver.support.ui import WebDriverWait\n",
    "from selenium.webdriver.support import expected_conditions as EC\n",
    "import csv"
   ]
  },
  {
   "cell_type": "markdown",
   "metadata": {},
   "source": [
    "### Webscraping Instagram Followers"
   ]
  },
  {
   "cell_type": "code",
   "execution_count": 11,
   "metadata": {},
   "outputs": [
    {
     "name": "stdout",
     "output_type": "stream",
     "text": [
      "Results saved in actor_followers.csv\n"
     ]
    }
   ],
   "source": [
    "\n",
    "# Initialize the Chrome driver\n",
    "driver = webdriver.Chrome()\n",
    "\n",
    "actors = ['Chinedu Ikedieze', 'Hakeem Kae-Kazim']  # Add more actors here\n",
    "\n",
    "# Open CSV file in write mode\n",
    "with open('actor_followers.csv', mode='w', newline='', encoding='utf-8') as file:\n",
    "    writer = csv.writer(file)\n",
    "    writer.writerow(['Actor', 'Instagram Followers'])\n",
    "\n",
    "    for actor in actors:\n",
    "        query = actor.replace(' ', '+') + '+instagram+followers'\n",
    "        url = f\"https://www.google.com/search?q={query}\"\n",
    "        driver.get(url)\n",
    "\n",
    "        try:\n",
    "            # Wait for the search results to load\n",
    "            wait = WebDriverWait(driver, 10)\n",
    "            followers_element = wait.until(EC.presence_of_element_located((By.CSS_SELECTOR, 'cite.qLRx3b.tjvcx.GvPZzd.cHaqb')))\n",
    "            followers_text = followers_element.text.split('+')[0].replace(',', '')\n",
    "\n",
    "            # Handle different formats of follower count\n",
    "            if followers_text.endswith('K'):\n",
    "                followers_count = int(float(followers_text[:-1]) * 1000)\n",
    "            elif followers_text.endswith('M'):\n",
    "                followers_count = int(float(followers_text[:-1]) * 1000000)\n",
    "            else:\n",
    "                followers_count = int(followers_text)\n",
    "        except Exception as e:\n",
    "            print(f\"Error scraping follower count for {actor}: {e}\")\n",
    "            followers_count = \"Not found\"\n",
    "\n",
    "        writer.writerow([actor, followers_count])\n",
    "\n",
    "    print(\"Results saved in actor_followers.csv\")\n",
    "\n",
    "# Close the driver\n",
    "driver.quit()"
   ]
  },
  {
   "cell_type": "code",
   "execution_count": 15,
   "metadata": {},
   "outputs": [
    {
     "ename": "WebDriverException",
     "evalue": "Message: unknown error: net::ERR_INTERNET_DISCONNECTED\n  (Session info: chrome=124.0.6367.91)\nStacktrace:\n\tGetHandleVerifier [0x00007FF70C091502+60802]\n\t(No symbol) [0x00007FF70C00AC02]\n\t(No symbol) [0x00007FF70BEC7CE4]\n\t(No symbol) [0x00007FF70BEC05B3]\n\t(No symbol) [0x00007FF70BEB13E4]\n\t(No symbol) [0x00007FF70BEB2C14]\n\t(No symbol) [0x00007FF70BEB1711]\n\t(No symbol) [0x00007FF70BEB1049]\n\t(No symbol) [0x00007FF70BEB0D42]\n\t(No symbol) [0x00007FF70BEAEBE4]\n\t(No symbol) [0x00007FF70BEAF22C]\n\t(No symbol) [0x00007FF70BECA9F9]\n\t(No symbol) [0x00007FF70BF5AB7E]\n\t(No symbol) [0x00007FF70BF3AB7A]\n\t(No symbol) [0x00007FF70BF5A224]\n\t(No symbol) [0x00007FF70BF3A923]\n\t(No symbol) [0x00007FF70BF08FEC]\n\t(No symbol) [0x00007FF70BF09C21]\n\tGetHandleVerifier [0x00007FF70C39411D+3217821]\n\tGetHandleVerifier [0x00007FF70C3D60B7+3488055]\n\tGetHandleVerifier [0x00007FF70C3CF03F+3459263]\n\tGetHandleVerifier [0x00007FF70C14B846+823494]\n\t(No symbol) [0x00007FF70C015F9F]\n\t(No symbol) [0x00007FF70C010EC4]\n\t(No symbol) [0x00007FF70C011052]\n\t(No symbol) [0x00007FF70C0018A4]\n\tBaseThreadInitThunk [0x00007FFC1A287344+20]\n\tRtlUserThreadStart [0x00007FFC1B7C26B1+33]\n",
     "output_type": "error",
     "traceback": [
      "\u001b[1;31m---------------------------------------------------------------------------\u001b[0m",
      "\u001b[1;31mWebDriverException\u001b[0m                        Traceback (most recent call last)",
      "Cell \u001b[1;32mIn[15], line 26\u001b[0m\n\u001b[0;32m     24\u001b[0m query \u001b[38;5;241m=\u001b[39m actor\u001b[38;5;241m.\u001b[39mreplace(\u001b[38;5;124m'\u001b[39m\u001b[38;5;124m \u001b[39m\u001b[38;5;124m'\u001b[39m, \u001b[38;5;124m'\u001b[39m\u001b[38;5;124m+\u001b[39m\u001b[38;5;124m'\u001b[39m) \u001b[38;5;241m+\u001b[39m \u001b[38;5;124m'\u001b[39m\u001b[38;5;124m+instagram+followers\u001b[39m\u001b[38;5;124m'\u001b[39m\n\u001b[0;32m     25\u001b[0m url \u001b[38;5;241m=\u001b[39m \u001b[38;5;124mf\u001b[39m\u001b[38;5;124m\"\u001b[39m\u001b[38;5;124mhttps://www.google.com/search?q=\u001b[39m\u001b[38;5;132;01m{\u001b[39;00mquery\u001b[38;5;132;01m}\u001b[39;00m\u001b[38;5;124m\"\u001b[39m\n\u001b[1;32m---> 26\u001b[0m \u001b[43mdriver\u001b[49m\u001b[38;5;241;43m.\u001b[39;49m\u001b[43mget\u001b[49m\u001b[43m(\u001b[49m\u001b[43murl\u001b[49m\u001b[43m)\u001b[49m\n\u001b[0;32m     28\u001b[0m \u001b[38;5;28;01mtry\u001b[39;00m:\n\u001b[0;32m     29\u001b[0m     \u001b[38;5;66;03m# Wait for the search results to load\u001b[39;00m\n\u001b[0;32m     30\u001b[0m     wait \u001b[38;5;241m=\u001b[39m WebDriverWait(driver, \u001b[38;5;241m10\u001b[39m)\n",
      "File \u001b[1;32mc:\\Users\\JIBBS\\AppData\\Local\\Programs\\Python\\Python312\\Lib\\site-packages\\selenium\\webdriver\\remote\\webdriver.py:356\u001b[0m, in \u001b[0;36mWebDriver.get\u001b[1;34m(self, url)\u001b[0m\n\u001b[0;32m    354\u001b[0m \u001b[38;5;28;01mdef\u001b[39;00m \u001b[38;5;21mget\u001b[39m(\u001b[38;5;28mself\u001b[39m, url: \u001b[38;5;28mstr\u001b[39m) \u001b[38;5;241m-\u001b[39m\u001b[38;5;241m>\u001b[39m \u001b[38;5;28;01mNone\u001b[39;00m:\n\u001b[0;32m    355\u001b[0m \u001b[38;5;250m    \u001b[39m\u001b[38;5;124;03m\"\"\"Loads a web page in the current browser session.\"\"\"\u001b[39;00m\n\u001b[1;32m--> 356\u001b[0m     \u001b[38;5;28;43mself\u001b[39;49m\u001b[38;5;241;43m.\u001b[39;49m\u001b[43mexecute\u001b[49m\u001b[43m(\u001b[49m\u001b[43mCommand\u001b[49m\u001b[38;5;241;43m.\u001b[39;49m\u001b[43mGET\u001b[49m\u001b[43m,\u001b[49m\u001b[43m \u001b[49m\u001b[43m{\u001b[49m\u001b[38;5;124;43m\"\u001b[39;49m\u001b[38;5;124;43murl\u001b[39;49m\u001b[38;5;124;43m\"\u001b[39;49m\u001b[43m:\u001b[49m\u001b[43m \u001b[49m\u001b[43murl\u001b[49m\u001b[43m}\u001b[49m\u001b[43m)\u001b[49m\n",
      "File \u001b[1;32mc:\\Users\\JIBBS\\AppData\\Local\\Programs\\Python\\Python312\\Lib\\site-packages\\selenium\\webdriver\\remote\\webdriver.py:347\u001b[0m, in \u001b[0;36mWebDriver.execute\u001b[1;34m(self, driver_command, params)\u001b[0m\n\u001b[0;32m    345\u001b[0m response \u001b[38;5;241m=\u001b[39m \u001b[38;5;28mself\u001b[39m\u001b[38;5;241m.\u001b[39mcommand_executor\u001b[38;5;241m.\u001b[39mexecute(driver_command, params)\n\u001b[0;32m    346\u001b[0m \u001b[38;5;28;01mif\u001b[39;00m response:\n\u001b[1;32m--> 347\u001b[0m     \u001b[38;5;28;43mself\u001b[39;49m\u001b[38;5;241;43m.\u001b[39;49m\u001b[43merror_handler\u001b[49m\u001b[38;5;241;43m.\u001b[39;49m\u001b[43mcheck_response\u001b[49m\u001b[43m(\u001b[49m\u001b[43mresponse\u001b[49m\u001b[43m)\u001b[49m\n\u001b[0;32m    348\u001b[0m     response[\u001b[38;5;124m\"\u001b[39m\u001b[38;5;124mvalue\u001b[39m\u001b[38;5;124m\"\u001b[39m] \u001b[38;5;241m=\u001b[39m \u001b[38;5;28mself\u001b[39m\u001b[38;5;241m.\u001b[39m_unwrap_value(response\u001b[38;5;241m.\u001b[39mget(\u001b[38;5;124m\"\u001b[39m\u001b[38;5;124mvalue\u001b[39m\u001b[38;5;124m\"\u001b[39m, \u001b[38;5;28;01mNone\u001b[39;00m))\n\u001b[0;32m    349\u001b[0m     \u001b[38;5;28;01mreturn\u001b[39;00m response\n",
      "File \u001b[1;32mc:\\Users\\JIBBS\\AppData\\Local\\Programs\\Python\\Python312\\Lib\\site-packages\\selenium\\webdriver\\remote\\errorhandler.py:229\u001b[0m, in \u001b[0;36mErrorHandler.check_response\u001b[1;34m(self, response)\u001b[0m\n\u001b[0;32m    227\u001b[0m         alert_text \u001b[38;5;241m=\u001b[39m value[\u001b[38;5;124m\"\u001b[39m\u001b[38;5;124malert\u001b[39m\u001b[38;5;124m\"\u001b[39m]\u001b[38;5;241m.\u001b[39mget(\u001b[38;5;124m\"\u001b[39m\u001b[38;5;124mtext\u001b[39m\u001b[38;5;124m\"\u001b[39m)\n\u001b[0;32m    228\u001b[0m     \u001b[38;5;28;01mraise\u001b[39;00m exception_class(message, screen, stacktrace, alert_text)  \u001b[38;5;66;03m# type: ignore[call-arg]  # mypy is not smart enough here\u001b[39;00m\n\u001b[1;32m--> 229\u001b[0m \u001b[38;5;28;01mraise\u001b[39;00m exception_class(message, screen, stacktrace)\n",
      "\u001b[1;31mWebDriverException\u001b[0m: Message: unknown error: net::ERR_INTERNET_DISCONNECTED\n  (Session info: chrome=124.0.6367.91)\nStacktrace:\n\tGetHandleVerifier [0x00007FF70C091502+60802]\n\t(No symbol) [0x00007FF70C00AC02]\n\t(No symbol) [0x00007FF70BEC7CE4]\n\t(No symbol) [0x00007FF70BEC05B3]\n\t(No symbol) [0x00007FF70BEB13E4]\n\t(No symbol) [0x00007FF70BEB2C14]\n\t(No symbol) [0x00007FF70BEB1711]\n\t(No symbol) [0x00007FF70BEB1049]\n\t(No symbol) [0x00007FF70BEB0D42]\n\t(No symbol) [0x00007FF70BEAEBE4]\n\t(No symbol) [0x00007FF70BEAF22C]\n\t(No symbol) [0x00007FF70BECA9F9]\n\t(No symbol) [0x00007FF70BF5AB7E]\n\t(No symbol) [0x00007FF70BF3AB7A]\n\t(No symbol) [0x00007FF70BF5A224]\n\t(No symbol) [0x00007FF70BF3A923]\n\t(No symbol) [0x00007FF70BF08FEC]\n\t(No symbol) [0x00007FF70BF09C21]\n\tGetHandleVerifier [0x00007FF70C39411D+3217821]\n\tGetHandleVerifier [0x00007FF70C3D60B7+3488055]\n\tGetHandleVerifier [0x00007FF70C3CF03F+3459263]\n\tGetHandleVerifier [0x00007FF70C14B846+823494]\n\t(No symbol) [0x00007FF70C015F9F]\n\t(No symbol) [0x00007FF70C010EC4]\n\t(No symbol) [0x00007FF70C011052]\n\t(No symbol) [0x00007FF70C0018A4]\n\tBaseThreadInitThunk [0x00007FFC1A287344+20]\n\tRtlUserThreadStart [0x00007FFC1B7C26B1+33]\n"
     ]
    }
   ],
   "source": [
    "from selenium import webdriver\n",
    "from selenium.webdriver.common.by import By\n",
    "from selenium.webdriver.support.ui import WebDriverWait\n",
    "from selenium.webdriver.support import expected_conditions as EC\n",
    "import csv\n",
    "\n",
    "# Initialize the Chrome driver\n",
    "driver = webdriver.Chrome()\n",
    "\n",
    "# Read actor names from the CSV file\n",
    "actors = []\n",
    "with open('actors_list.csv', 'r') as file:\n",
    "    reader = csv.reader(file)\n",
    "    next(reader)  # Skip the header row\n",
    "    for row in reader:\n",
    "        actors.append(row[0])  \n",
    "\n",
    "# Open CSV file in write mode\n",
    "with open('actor_followers.csv', mode='w', newline='', encoding='utf-8') as file:\n",
    "    writer = csv.writer(file)\n",
    "    writer.writerow(['Actor', 'Instagram Followers'])\n",
    "\n",
    "    for actor in actors:\n",
    "        query = actor.replace(' ', '+') + '+instagram+followers'\n",
    "        url = f\"https://www.google.com/search?q={query}\"\n",
    "        driver.get(url)\n",
    "\n",
    "        try:\n",
    "            # Wait for the search results to load\n",
    "            wait = WebDriverWait(driver, 10)\n",
    "            followers_element = wait.until(EC.presence_of_element_located((By.CSS_SELECTOR, 'cite.qLRx3b.tjvcx.GvPZzd.cHaqb')))\n",
    "            followers_text = followers_element.text.split('+')[0].replace(',', '')\n",
    "\n",
    "            # Handle different formats of follower count\n",
    "            if followers_text.endswith('K'):\n",
    "                followers_count = int(float(followers_text[:-1]) * 1000)\n",
    "            elif followers_text.endswith('M'):\n",
    "                followers_count = int(float(followers_text[:-1]) * 1000000)\n",
    "            else:\n",
    "                followers_count = int(followers_text)\n",
    "        except Exception as e:\n",
    "            print(f\"Error scraping follower count for {actor}: {e}\")\n",
    "            followers_count = \"Not found\"\n",
    "\n",
    "        writer.writerow([actor, followers_count])\n",
    "\n",
    "    print(\"Results saved in actor_followers.csv\")\n",
    "\n",
    "# Close the driver\n",
    "driver.quit()"
   ]
  },
  {
   "cell_type": "markdown",
   "metadata": {},
   "source": [
    "### Webscraping Twitter Followers"
   ]
  },
  {
   "cell_type": "code",
   "execution_count": null,
   "metadata": {},
   "outputs": [],
   "source": [
    "\n",
    "# Initialize the Chrome driver\n",
    "driver = webdriver.Chrome()\n",
    "\n",
    "actors = ['Chinedu Ikedieze', 'Hakeem Kae-Kazim']  # Add more actors here\n",
    "\n",
    "# Open CSV file in write mode\n",
    "with open('actor_followers.csv', mode='w', newline='', encoding='utf-8') as file:\n",
    "    writer = csv.writer(file)\n",
    "    writer.writerow(['Actor', 'Instagram Followers'])\n",
    "\n",
    "    for actor in actors:\n",
    "        query = actor.replace(' ', '+') + '+twitter+followers'\n",
    "        url = f\"https://www.google.com/search?q={query}\"\n",
    "        driver.get(url)\n",
    "\n",
    "        try:\n",
    "            # Wait for the search results to load\n",
    "            wait = WebDriverWait(driver, 10)\n",
    "            followers_element = wait.until(EC.presence_of_element_located((By.CSS_SELECTOR, 'cite.qLRx3b.tjvcx.GvPZzd.cHaqb')))\n",
    "            followers_text = followers_element.text.split('+')[0].replace(',', '')\n",
    "\n",
    "            # Handle different formats of follower count\n",
    "            if followers_text.endswith('K'):\n",
    "                followers_count = int(float(followers_text[:-1]) * 1000)\n",
    "            elif followers_text.endswith('M'):\n",
    "                followers_count = int(float(followers_text[:-1]) * 1000000)\n",
    "            else:\n",
    "                followers_count = int(followers_text)\n",
    "        except Exception as e:\n",
    "            print(f\"Error scraping follower count for {actor}: {e}\")\n",
    "            followers_count = \"Not found\"\n",
    "\n",
    "        writer.writerow([actor, followers_count])\n",
    "\n",
    "    print(\"Results saved in actor_followers.csv\")\n",
    "\n",
    "# Close the driver\n",
    "driver.quit()"
   ]
  }
 ],
 "metadata": {
  "kernelspec": {
   "display_name": "Python 3",
   "language": "python",
   "name": "python3"
  },
  "language_info": {
   "codemirror_mode": {
    "name": "ipython",
    "version": 3
   },
   "file_extension": ".py",
   "mimetype": "text/x-python",
   "name": "python",
   "nbconvert_exporter": "python",
   "pygments_lexer": "ipython3",
   "version": "3.12.0"
  }
 },
 "nbformat": 4,
 "nbformat_minor": 2
}
